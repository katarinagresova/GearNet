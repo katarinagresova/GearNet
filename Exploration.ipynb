{
 "cells": [
  {
   "cell_type": "markdown",
   "id": "34b5fc83-a7a5-4a34-985f-cc348cb0ce7a",
   "metadata": {},
   "source": [
    "# Setup\n",
    "\n",
    "## Install required libraries. \n",
    "\n",
    "[Torchdrug](https://torchdrug.ai/) is build on top of PyTorch and tailored for drug discovery. GearNet is using Torchdrug."
   ]
  },
  {
   "cell_type": "code",
   "execution_count": 18,
   "id": "512210a2-6181-47fd-8620-edc9e2ce83e7",
   "metadata": {},
   "outputs": [
    {
     "name": "stdout",
     "output_type": "stream",
     "text": [
      "Requirement already satisfied: torch in /usr/local/lib/python3.10/dist-packages (1.11.0)\n",
      "Requirement already satisfied: typing-extensions in /usr/local/lib/python3.10/dist-packages (from torch) (4.7.1)\n",
      "\n",
      "\u001b[1m[\u001b[0m\u001b[34;49mnotice\u001b[0m\u001b[1;39;49m]\u001b[0m\u001b[39;49m A new release of pip is available: \u001b[0m\u001b[31;49m23.1.2\u001b[0m\u001b[39;49m -> \u001b[0m\u001b[32;49m23.2.1\u001b[0m\n",
      "\u001b[1m[\u001b[0m\u001b[34;49mnotice\u001b[0m\u001b[1;39;49m]\u001b[0m\u001b[39;49m To update, run: \u001b[0m\u001b[32;49mpython3.10 -m pip install --upgrade pip\u001b[0m\n",
      "Requirement already satisfied: torchdrug in /usr/local/lib/python3.10/dist-packages (0.2.1)\n",
      "Requirement already satisfied: torch>=1.8.0 in /usr/local/lib/python3.10/dist-packages (from torchdrug) (1.11.0)\n",
      "Requirement already satisfied: torch-scatter>=2.0.8 in /usr/local/lib/python3.10/dist-packages (from torchdrug) (2.1.1)\n",
      "Requirement already satisfied: torch-cluster>=1.5.9 in /usr/local/lib/python3.10/dist-packages (from torchdrug) (1.6.1)\n",
      "Requirement already satisfied: decorator in /usr/local/lib/python3.10/dist-packages (from torchdrug) (4.4.2)\n",
      "Requirement already satisfied: numpy>=1.11 in /usr/local/lib/python3.10/dist-packages (from torchdrug) (1.22.4)\n",
      "Requirement already satisfied: rdkit-pypi>=2020.9 in /usr/local/lib/python3.10/dist-packages (from torchdrug) (2022.9.5)\n",
      "Requirement already satisfied: matplotlib in /usr/local/lib/python3.10/dist-packages (from torchdrug) (3.7.1)\n",
      "Requirement already satisfied: tqdm in /usr/local/lib/python3.10/dist-packages (from torchdrug) (4.65.0)\n",
      "Requirement already satisfied: networkx in /usr/local/lib/python3.10/dist-packages (from torchdrug) (3.1)\n",
      "Requirement already satisfied: ninja in /usr/local/lib/python3.10/dist-packages (from torchdrug) (1.11.1)\n",
      "Requirement already satisfied: jinja2 in /usr/local/lib/python3.10/dist-packages (from torchdrug) (3.1.2)\n",
      "Requirement already satisfied: lmdb in /usr/local/lib/python3.10/dist-packages (from torchdrug) (1.4.1)\n",
      "Requirement already satisfied: fair-esm in /usr/local/lib/python3.10/dist-packages (from torchdrug) (2.0.0)\n",
      "Requirement already satisfied: Pillow in /usr/local/lib/python3.10/dist-packages (from rdkit-pypi>=2020.9->torchdrug) (8.4.0)\n",
      "Requirement already satisfied: typing-extensions in /usr/local/lib/python3.10/dist-packages (from torch>=1.8.0->torchdrug) (4.7.1)\n",
      "Requirement already satisfied: scipy in /usr/local/lib/python3.10/dist-packages (from torch-cluster>=1.5.9->torchdrug) (1.10.1)\n",
      "Requirement already satisfied: MarkupSafe>=2.0 in /usr/local/lib/python3.10/dist-packages (from jinja2->torchdrug) (2.1.3)\n",
      "Requirement already satisfied: contourpy>=1.0.1 in /usr/local/lib/python3.10/dist-packages (from matplotlib->torchdrug) (1.1.0)\n",
      "Requirement already satisfied: cycler>=0.10 in /usr/local/lib/python3.10/dist-packages (from matplotlib->torchdrug) (0.11.0)\n",
      "Requirement already satisfied: fonttools>=4.22.0 in /usr/local/lib/python3.10/dist-packages (from matplotlib->torchdrug) (4.41.0)\n",
      "Requirement already satisfied: kiwisolver>=1.0.1 in /usr/local/lib/python3.10/dist-packages (from matplotlib->torchdrug) (1.4.4)\n",
      "Requirement already satisfied: packaging>=20.0 in /usr/local/lib/python3.10/dist-packages (from matplotlib->torchdrug) (23.1)\n",
      "Requirement already satisfied: pyparsing>=2.3.1 in /usr/local/lib/python3.10/dist-packages (from matplotlib->torchdrug) (3.1.0)\n",
      "Requirement already satisfied: python-dateutil>=2.7 in /usr/local/lib/python3.10/dist-packages (from matplotlib->torchdrug) (2.8.2)\n",
      "Requirement already satisfied: six>=1.5 in /usr/local/lib/python3.10/dist-packages (from python-dateutil>=2.7->matplotlib->torchdrug) (1.16.0)\n",
      "\n",
      "\u001b[1m[\u001b[0m\u001b[34;49mnotice\u001b[0m\u001b[1;39;49m]\u001b[0m\u001b[39;49m A new release of pip is available: \u001b[0m\u001b[31;49m23.1.2\u001b[0m\u001b[39;49m -> \u001b[0m\u001b[32;49m23.2.1\u001b[0m\n",
      "\u001b[1m[\u001b[0m\u001b[34;49mnotice\u001b[0m\u001b[1;39;49m]\u001b[0m\u001b[39;49m To update, run: \u001b[0m\u001b[32;49mpython3.10 -m pip install --upgrade pip\u001b[0m\n",
      "Requirement already satisfied: easydict in /usr/local/lib/python3.10/dist-packages (1.10)\n",
      "Requirement already satisfied: pyyaml in /usr/local/lib/python3.10/dist-packages (6.0)\n",
      "\n",
      "\u001b[1m[\u001b[0m\u001b[34;49mnotice\u001b[0m\u001b[1;39;49m]\u001b[0m\u001b[39;49m A new release of pip is available: \u001b[0m\u001b[31;49m23.1.2\u001b[0m\u001b[39;49m -> \u001b[0m\u001b[32;49m23.2.1\u001b[0m\n",
      "\u001b[1m[\u001b[0m\u001b[34;49mnotice\u001b[0m\u001b[1;39;49m]\u001b[0m\u001b[39;49m To update, run: \u001b[0m\u001b[32;49mpython3.10 -m pip install --upgrade pip\u001b[0m\n"
     ]
    }
   ],
   "source": [
    "!pip install torch\n",
    "!pip install torchdrug\n",
    "!pip install easydict pyyaml"
   ]
  },
  {
   "cell_type": "markdown",
   "id": "bc259cbf-3dce-4645-96f2-55ced668badb",
   "metadata": {},
   "source": [
    "## Download model and data\n",
    "\n",
    "Pre-trained models weights for GearNet are stored [here](https://zenodo.org/record/7593637). Several weigths are available, optained using different training techniques.\n",
    "\n",
    "For the data, I chose some example protein [Free fatty acid receptor 2](https://alphafold.ebi.ac.uk/entry/O15552).\n",
    "\n",
    "Currently, GearNet works only with `.pdb` files. To load data, you use `data.Protein.from_pdb()` method. Unfortunately, there is no `data.Protein.from_mmcif()`. Under the hood, they are using [rdkit](https://www.rdkit.org/) to parse files, but adding support for parsing `mmcif` files is still [an open issue](https://github.com/rdkit/rdkit/issues/2054)."
   ]
  },
  {
   "cell_type": "code",
   "execution_count": 3,
   "id": "2d6874c0-8551-4579-9789-b536298a85ea",
   "metadata": {},
   "outputs": [
    {
     "name": "stdout",
     "output_type": "stream",
     "text": [
      "--2023-08-22 18:01:17--  https://zenodo.org/record/7593637/files/mc_gearnet_edge.pth\n",
      "Resolving zenodo.org (zenodo.org)... 188.185.124.72\n",
      "Connecting to zenodo.org (zenodo.org)|188.185.124.72|:443... connected.\n",
      "HTTP request sent, awaiting response... 200 OK\n",
      "Length: 80700937 (77M) [application/octet-stream]\n",
      "Saving to: ‘mc_gearnet_edge.pth’\n",
      "\n",
      "mc_gearnet_edge.pth 100%[===================>]  76.96M  21.1MB/s    in 5.3s    \n",
      "\n",
      "2023-08-22 18:01:23 (14.5 MB/s) - ‘mc_gearnet_edge.pth’ saved [80700937/80700937]\n",
      "\n"
     ]
    }
   ],
   "source": [
    "!wget https://zenodo.org/record/7593637/files/mc_gearnet_edge.pth\n",
    "!mkdir models\n",
    "!mv mc_gearnet_edge.pth models/mc_gearnet_edge.pth"
   ]
  },
  {
   "cell_type": "code",
   "execution_count": 4,
   "id": "2f156cab-d338-436a-bcb3-1255092fd3e0",
   "metadata": {},
   "outputs": [
    {
     "name": "stdout",
     "output_type": "stream",
     "text": [
      "--2023-08-22 18:01:28--  https://alphafold.ebi.ac.uk/files/AF-O15552-F1-model_v4.pdb\n",
      "Resolving alphafold.ebi.ac.uk (alphafold.ebi.ac.uk)... 34.149.152.8\n",
      "Connecting to alphafold.ebi.ac.uk (alphafold.ebi.ac.uk)|34.149.152.8|:443... connected.\n",
      "HTTP request sent, awaiting response... 200 OK\n",
      "Length: unspecified [application/octet-stream]\n",
      "Saving to: ‘AF-O15552-F1-model_v4.pdb’\n",
      "\n",
      "AF-O15552-F1-model_     [ <=>                ] 213.49K  --.-KB/s    in 0.01s   \n",
      "\n",
      "2023-08-22 18:01:28 (15.8 MB/s) - ‘AF-O15552-F1-model_v4.pdb’ saved [218618]\n",
      "\n"
     ]
    }
   ],
   "source": [
    "!wget https://alphafold.ebi.ac.uk/files/AF-O15552-F1-model_v4.pdb\n",
    "!mkdir data\n",
    "!mv AF-O15552-F1-model_v4.pdb data/AF-O15552-F1-model_v4.pdb"
   ]
  },
  {
   "cell_type": "markdown",
   "id": "35827b8e-50b5-4566-9d11-6b3f82afe20a",
   "metadata": {},
   "source": [
    "# Prepare data"
   ]
  },
  {
   "cell_type": "code",
   "execution_count": 28,
   "id": "f2f7eb04-94c0-4aa6-97b0-e2fb8ec9344e",
   "metadata": {},
   "outputs": [],
   "source": [
    "from torchdrug import core, datasets, tasks, models, transforms, data, layers\n",
    "from torchdrug.layers import geometry"
   ]
  },
  {
   "cell_type": "code",
   "execution_count": 21,
   "id": "59202490-00ea-4652-a19b-ee629e4cbf21",
   "metadata": {},
   "outputs": [],
   "source": [
    "transform = transforms.ProteinView(view=\"residue\")\n",
    "graph_construction_model = layers.GraphConstruction(node_layers=[geometry.AlphaCarbonNode()], \n",
    "                                                    edge_layers=[geometry.SpatialEdge(radius=10.0, min_distance=5),\n",
    "                                                                 geometry.KNNEdge(k=10, min_distance=5),\n",
    "                                                                 geometry.SequentialEdge(max_distance=2)],\n",
    "                                                    edge_feature=\"gearnet\")"
   ]
  },
  {
   "cell_type": "code",
   "execution_count": 37,
   "id": "4b9732d8-c270-497f-8f01-851bd1a0a8be",
   "metadata": {},
   "outputs": [
    {
     "name": "stdout",
     "output_type": "stream",
     "text": [
      "114 ms ± 366 µs per loop (mean ± std. dev. of 7 runs, 10 loops each)\n"
     ]
    }
   ],
   "source": [
    "%%timeit\n",
    "\n",
    "PROTEIN_PATH = './data/AF-O15552-F1-model_v4.pdb'\n",
    "protein = data.Protein.from_pdb(PROTEIN_PATH, atom_feature=\"position\", bond_feature=\"length\", residue_feature=\"symbol\")\n",
    "\n",
    "with protein.residue():\n",
    "    protein.residue_feature = protein.residue_feature.to_dense()\n",
    "    \n",
    "item = {\"graph\": protein}\n",
    "item = transform(item)\n",
    "\n",
    "_protein = data.Protein.pack([item['graph']])\n",
    "protein = graph_construction_model(_protein)"
   ]
  },
  {
   "cell_type": "markdown",
   "id": "37f4f403-2df1-40e0-8136-2ac367176fb3",
   "metadata": {},
   "source": [
    "# Prepare model"
   ]
  },
  {
   "cell_type": "code",
   "execution_count": 14,
   "id": "70bf43e9-53c0-48dd-8da6-a3f8ac118a6e",
   "metadata": {},
   "outputs": [
    {
     "data": {
      "text/plain": [
       "GeometryAwareRelationalGraphNeuralNetwork(\n",
       "  (layers): ModuleList(\n",
       "    (0): GeometricRelationalGraphConv(\n",
       "      (batch_norm): BatchNorm1d(512, eps=1e-05, momentum=0.1, affine=True, track_running_stats=True)\n",
       "      (self_loop): Linear(in_features=21, out_features=512, bias=True)\n",
       "      (linear): Linear(in_features=147, out_features=512, bias=True)\n",
       "    )\n",
       "    (1-5): 5 x GeometricRelationalGraphConv(\n",
       "      (batch_norm): BatchNorm1d(512, eps=1e-05, momentum=0.1, affine=True, track_running_stats=True)\n",
       "      (self_loop): Linear(in_features=512, out_features=512, bias=True)\n",
       "      (linear): Linear(in_features=3584, out_features=512, bias=True)\n",
       "    )\n",
       "  )\n",
       "  (spatial_line_graph): SpatialLineGraph()\n",
       "  (edge_layers): ModuleList(\n",
       "    (0): GeometricRelationalGraphConv(\n",
       "      (batch_norm): BatchNorm1d(21, eps=1e-05, momentum=0.1, affine=True, track_running_stats=True)\n",
       "      (self_loop): Linear(in_features=59, out_features=21, bias=True)\n",
       "      (linear): Linear(in_features=472, out_features=21, bias=True)\n",
       "    )\n",
       "    (1): GeometricRelationalGraphConv(\n",
       "      (batch_norm): BatchNorm1d(512, eps=1e-05, momentum=0.1, affine=True, track_running_stats=True)\n",
       "      (self_loop): Linear(in_features=21, out_features=512, bias=True)\n",
       "      (linear): Linear(in_features=168, out_features=512, bias=True)\n",
       "    )\n",
       "    (2-5): 4 x GeometricRelationalGraphConv(\n",
       "      (batch_norm): BatchNorm1d(512, eps=1e-05, momentum=0.1, affine=True, track_running_stats=True)\n",
       "      (self_loop): Linear(in_features=512, out_features=512, bias=True)\n",
       "      (linear): Linear(in_features=4096, out_features=512, bias=True)\n",
       "    )\n",
       "  )\n",
       "  (batch_norms): ModuleList(\n",
       "    (0-5): 6 x BatchNorm1d(512, eps=1e-05, momentum=0.1, affine=True, track_running_stats=True)\n",
       "  )\n",
       "  (readout): SumReadout()\n",
       ")"
      ]
     },
     "execution_count": 14,
     "metadata": {},
     "output_type": "execute_result"
    }
   ],
   "source": [
    "import torch\n",
    "\n",
    "WEIGHTS_PATH = './models/mc_gearnet_edge.pth'\n",
    "\n",
    "# define model architecturemodel\n",
    "gearnet_edge = models.GearNet(input_dim=21, hidden_dims=[512, 512, 512, 512, 512, 512],\n",
    "                              num_relation=7, edge_input_dim=59, num_angle_bin=8,\n",
    "                              batch_norm=True, concat_hidden=True, short_cut=True, readout=\"sum\")\n",
    "\n",
    "net = torch.load(WEIGHTS_PATH)\n",
    "gearnet_edge.load_state_dict(net)\n",
    "gearnet_edge.eval()"
   ]
  },
  {
   "cell_type": "markdown",
   "id": "01cc3860-3a8b-43d8-a758-2dbb70d4802d",
   "metadata": {},
   "source": [
    "# Compute embeddings"
   ]
  },
  {
   "cell_type": "code",
   "execution_count": 35,
   "id": "ab5adcee-3afe-4a5b-bc2c-00bdf3536b6c",
   "metadata": {},
   "outputs": [
    {
     "name": "stdout",
     "output_type": "stream",
     "text": [
      "1.28 s ± 13.2 ms per loop (mean ± std. dev. of 7 runs, 1 loop each)\n"
     ]
    }
   ],
   "source": [
    "%%timeit\n",
    "output = gearnet_edge(protein, protein.node_feature.float(), all_loss=None, metric=None)"
   ]
  },
  {
   "cell_type": "code",
   "execution_count": 8,
   "id": "9daf5cbb-09f2-413a-bd2c-5d10be01eec0",
   "metadata": {},
   "outputs": [
    {
     "data": {
      "text/plain": [
       "tensor([[ -1.3649, -21.1418,  14.6464,  ...,  28.3855,  21.2432,  48.4165]])"
      ]
     },
     "execution_count": 8,
     "metadata": {},
     "output_type": "execute_result"
    }
   ],
   "source": [
    "output['graph_feature']"
   ]
  },
  {
   "cell_type": "code",
   "execution_count": 40,
   "id": "2498a269-11ec-4bab-b077-49d8d38ee517",
   "metadata": {},
   "outputs": [
    {
     "data": {
      "text/html": [
       "<div>\n",
       "<style scoped>\n",
       "    .dataframe tbody tr th:only-of-type {\n",
       "        vertical-align: middle;\n",
       "    }\n",
       "\n",
       "    .dataframe tbody tr th {\n",
       "        vertical-align: top;\n",
       "    }\n",
       "\n",
       "    .dataframe thead th {\n",
       "        text-align: right;\n",
       "    }\n",
       "</style>\n",
       "<table border=\"1\" class=\"dataframe\">\n",
       "  <thead>\n",
       "    <tr style=\"text-align: right;\">\n",
       "      <th></th>\n",
       "      <th>0</th>\n",
       "    </tr>\n",
       "  </thead>\n",
       "  <tbody>\n",
       "    <tr>\n",
       "      <th>count</th>\n",
       "      <td>3072.000000</td>\n",
       "    </tr>\n",
       "    <tr>\n",
       "      <th>mean</th>\n",
       "      <td>1221.709106</td>\n",
       "    </tr>\n",
       "    <tr>\n",
       "      <th>std</th>\n",
       "      <td>4182.805176</td>\n",
       "    </tr>\n",
       "    <tr>\n",
       "      <th>min</th>\n",
       "      <td>-3180.314941</td>\n",
       "    </tr>\n",
       "    <tr>\n",
       "      <th>25%</th>\n",
       "      <td>-41.301126</td>\n",
       "    </tr>\n",
       "    <tr>\n",
       "      <th>50%</th>\n",
       "      <td>80.202492</td>\n",
       "    </tr>\n",
       "    <tr>\n",
       "      <th>75%</th>\n",
       "      <td>701.187408</td>\n",
       "    </tr>\n",
       "    <tr>\n",
       "      <th>max</th>\n",
       "      <td>91498.945312</td>\n",
       "    </tr>\n",
       "  </tbody>\n",
       "</table>\n",
       "</div>"
      ],
      "text/plain": [
       "                  0\n",
       "count   3072.000000\n",
       "mean    1221.709106\n",
       "std     4182.805176\n",
       "min    -3180.314941\n",
       "25%      -41.301126\n",
       "50%       80.202492\n",
       "75%      701.187408\n",
       "max    91498.945312"
      ]
     },
     "execution_count": 40,
     "metadata": {},
     "output_type": "execute_result"
    }
   ],
   "source": [
    "import pandas as pd \n",
    "    \n",
    "pd.DataFrame(output['graph_feature'][0].detach().numpy()).describe()"
   ]
  }
 ],
 "metadata": {
  "kernelspec": {
   "display_name": "Python 3",
   "language": "python",
   "name": "python3"
  },
  "language_info": {
   "codemirror_mode": {
    "name": "ipython",
    "version": 3
   },
   "file_extension": ".py",
   "mimetype": "text/x-python",
   "name": "python",
   "nbconvert_exporter": "python",
   "pygments_lexer": "ipython3",
   "version": "3.10.12"
  }
 },
 "nbformat": 4,
 "nbformat_minor": 5
}
