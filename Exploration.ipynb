{
  "cells": [
    {
      "cell_type": "markdown",
      "metadata": {
        "id": "view-in-github",
        "colab_type": "text"
      },
      "source": [
        "<a href=\"https://colab.research.google.com/github/katarinagresova/GearNet/blob/main/Exploration.ipynb\" target=\"_parent\"><img src=\"https://colab.research.google.com/assets/colab-badge.svg\" alt=\"Open In Colab\"/></a>"
      ]
    },
    {
      "cell_type": "markdown",
      "source": [
        "# Introduction\n",
        "\n",
        "The goal of this notebook is to use GearNet ([Zhang, Zuobai, et al., 2023](https://doi.org/10.48550/arXiv.2203.06125)) for generating structural embedding of protein.\n",
        "\n",
        "**Input:** protein structure in `.pdb` format  \n",
        "**Output:** embedding vector with 3072 features"
      ],
      "metadata": {
        "id": "GzaKYNzHArhZ"
      },
      "id": "GzaKYNzHArhZ"
    },
    {
      "cell_type": "markdown",
      "source": [
        "# Setup"
      ],
      "metadata": {
        "id": "0mGJi8MPAmqL"
      },
      "id": "0mGJi8MPAmqL"
    },
    {
      "cell_type": "markdown",
      "id": "34b5fc83-a7a5-4a34-985f-cc348cb0ce7a",
      "metadata": {
        "id": "34b5fc83-a7a5-4a34-985f-cc348cb0ce7a"
      },
      "source": [
        "## Install required libraries.\n",
        "\n",
        "[Torchdrug](https://torchdrug.ai/) is build on top of PyTorch and tailored for drug discovery. GearNet is using Torchdrug.\n",
        "\n",
        "Note: installing `torchdrug` takes several (up to 20) minutes."
      ]
    },
    {
      "cell_type": "code",
      "execution_count": null,
      "id": "512210a2-6181-47fd-8620-edc9e2ce83e7",
      "metadata": {
        "colab": {
          "base_uri": "https://localhost:8080/"
        },
        "id": "512210a2-6181-47fd-8620-edc9e2ce83e7",
        "outputId": "c7bed236-01a2-48f9-8970-320f8c2bc5b6"
      },
      "outputs": [
        {
          "output_type": "stream",
          "name": "stdout",
          "text": [
            "Requirement already satisfied: torch in /usr/local/lib/python3.10/dist-packages (2.0.1+cu118)\n",
            "Requirement already satisfied: filelock in /usr/local/lib/python3.10/dist-packages (from torch) (3.12.2)\n",
            "Requirement already satisfied: typing-extensions in /usr/local/lib/python3.10/dist-packages (from torch) (4.7.1)\n",
            "Requirement already satisfied: sympy in /usr/local/lib/python3.10/dist-packages (from torch) (1.12)\n",
            "Requirement already satisfied: networkx in /usr/local/lib/python3.10/dist-packages (from torch) (3.1)\n",
            "Requirement already satisfied: jinja2 in /usr/local/lib/python3.10/dist-packages (from torch) (3.1.2)\n",
            "Requirement already satisfied: triton==2.0.0 in /usr/local/lib/python3.10/dist-packages (from torch) (2.0.0)\n",
            "Requirement already satisfied: cmake in /usr/local/lib/python3.10/dist-packages (from triton==2.0.0->torch) (3.27.2)\n",
            "Requirement already satisfied: lit in /usr/local/lib/python3.10/dist-packages (from triton==2.0.0->torch) (16.0.6)\n",
            "Requirement already satisfied: MarkupSafe>=2.0 in /usr/local/lib/python3.10/dist-packages (from jinja2->torch) (2.1.3)\n",
            "Requirement already satisfied: mpmath>=0.19 in /usr/local/lib/python3.10/dist-packages (from sympy->torch) (1.3.0)\n",
            "Collecting torchdrug\n",
            "  Downloading torchdrug-0.2.1-py3-none-any.whl (268 kB)\n",
            "\u001b[2K     \u001b[90m━━━━━━━━━━━━━━━━━━━━━━━━━━━━━━━━━━━━━━━\u001b[0m \u001b[32m268.5/268.5 kB\u001b[0m \u001b[31m4.8 MB/s\u001b[0m eta \u001b[36m0:00:00\u001b[0m\n",
            "\u001b[?25hRequirement already satisfied: torch>=1.8.0 in /usr/local/lib/python3.10/dist-packages (from torchdrug) (2.0.1+cu118)\n",
            "Collecting torch-scatter>=2.0.8 (from torchdrug)\n",
            "  Downloading torch_scatter-2.1.1.tar.gz (107 kB)\n",
            "\u001b[2K     \u001b[90m━━━━━━━━━━━━━━━━━━━━━━━━━━━━━━━━━━━━━━━\u001b[0m \u001b[32m107.6/107.6 kB\u001b[0m \u001b[31m7.9 MB/s\u001b[0m eta \u001b[36m0:00:00\u001b[0m\n",
            "\u001b[?25h  Preparing metadata (setup.py) ... \u001b[?25l\u001b[?25hdone\n",
            "Collecting torch-cluster>=1.5.9 (from torchdrug)\n",
            "  Downloading torch_cluster-1.6.1.tar.gz (53 kB)\n",
            "\u001b[2K     \u001b[90m━━━━━━━━━━━━━━━━━━━━━━━━━━━━━━━━━━━━━━━━\u001b[0m \u001b[32m53.8/53.8 kB\u001b[0m \u001b[31m6.2 MB/s\u001b[0m eta \u001b[36m0:00:00\u001b[0m\n",
            "\u001b[?25h  Preparing metadata (setup.py) ... \u001b[?25l\u001b[?25hdone\n",
            "Requirement already satisfied: decorator in /usr/local/lib/python3.10/dist-packages (from torchdrug) (4.4.2)\n",
            "Requirement already satisfied: numpy>=1.11 in /usr/local/lib/python3.10/dist-packages (from torchdrug) (1.23.5)\n",
            "Collecting rdkit-pypi>=2020.9 (from torchdrug)\n",
            "  Downloading rdkit_pypi-2022.9.5-cp310-cp310-manylinux_2_17_x86_64.manylinux2014_x86_64.whl (29.4 MB)\n",
            "\u001b[2K     \u001b[90m━━━━━━━━━━━━━━━━━━━━━━━━━━━━━━━━━━━━━━━━\u001b[0m \u001b[32m29.4/29.4 MB\u001b[0m \u001b[31m49.5 MB/s\u001b[0m eta \u001b[36m0:00:00\u001b[0m\n",
            "\u001b[?25hRequirement already satisfied: matplotlib in /usr/local/lib/python3.10/dist-packages (from torchdrug) (3.7.1)\n",
            "Requirement already satisfied: tqdm in /usr/local/lib/python3.10/dist-packages (from torchdrug) (4.66.1)\n",
            "Requirement already satisfied: networkx in /usr/local/lib/python3.10/dist-packages (from torchdrug) (3.1)\n",
            "Collecting ninja (from torchdrug)\n",
            "  Downloading ninja-1.11.1-py2.py3-none-manylinux_2_12_x86_64.manylinux2010_x86_64.whl (145 kB)\n",
            "\u001b[2K     \u001b[90m━━━━━━━━━━━━━━━━━━━━━━━━━━━━━━━━━━━━━━\u001b[0m \u001b[32m146.0/146.0 kB\u001b[0m \u001b[31m19.9 MB/s\u001b[0m eta \u001b[36m0:00:00\u001b[0m\n",
            "\u001b[?25hRequirement already satisfied: jinja2 in /usr/local/lib/python3.10/dist-packages (from torchdrug) (3.1.2)\n",
            "Collecting lmdb (from torchdrug)\n",
            "  Downloading lmdb-1.4.1-cp310-cp310-manylinux_2_17_x86_64.manylinux2014_x86_64.whl (299 kB)\n",
            "\u001b[2K     \u001b[90m━━━━━━━━━━━━━━━━━━━━━━━━━━━━━━━━━━━━━━\u001b[0m \u001b[32m299.2/299.2 kB\u001b[0m \u001b[31m28.9 MB/s\u001b[0m eta \u001b[36m0:00:00\u001b[0m\n",
            "\u001b[?25hCollecting fair-esm (from torchdrug)\n",
            "  Downloading fair_esm-2.0.0-py3-none-any.whl (93 kB)\n",
            "\u001b[2K     \u001b[90m━━━━━━━━━━━━━━━━━━━━━━━━━━━━━━━━━━━━━━━━\u001b[0m \u001b[32m93.1/93.1 kB\u001b[0m \u001b[31m12.7 MB/s\u001b[0m eta \u001b[36m0:00:00\u001b[0m\n",
            "\u001b[?25hRequirement already satisfied: Pillow in /usr/local/lib/python3.10/dist-packages (from rdkit-pypi>=2020.9->torchdrug) (9.4.0)\n",
            "Requirement already satisfied: filelock in /usr/local/lib/python3.10/dist-packages (from torch>=1.8.0->torchdrug) (3.12.2)\n",
            "Requirement already satisfied: typing-extensions in /usr/local/lib/python3.10/dist-packages (from torch>=1.8.0->torchdrug) (4.7.1)\n",
            "Requirement already satisfied: sympy in /usr/local/lib/python3.10/dist-packages (from torch>=1.8.0->torchdrug) (1.12)\n",
            "Requirement already satisfied: triton==2.0.0 in /usr/local/lib/python3.10/dist-packages (from torch>=1.8.0->torchdrug) (2.0.0)\n",
            "Requirement already satisfied: cmake in /usr/local/lib/python3.10/dist-packages (from triton==2.0.0->torch>=1.8.0->torchdrug) (3.27.2)\n",
            "Requirement already satisfied: lit in /usr/local/lib/python3.10/dist-packages (from triton==2.0.0->torch>=1.8.0->torchdrug) (16.0.6)\n",
            "Requirement already satisfied: scipy in /usr/local/lib/python3.10/dist-packages (from torch-cluster>=1.5.9->torchdrug) (1.10.1)\n",
            "Requirement already satisfied: MarkupSafe>=2.0 in /usr/local/lib/python3.10/dist-packages (from jinja2->torchdrug) (2.1.3)\n",
            "Requirement already satisfied: contourpy>=1.0.1 in /usr/local/lib/python3.10/dist-packages (from matplotlib->torchdrug) (1.1.0)\n",
            "Requirement already satisfied: cycler>=0.10 in /usr/local/lib/python3.10/dist-packages (from matplotlib->torchdrug) (0.11.0)\n",
            "Requirement already satisfied: fonttools>=4.22.0 in /usr/local/lib/python3.10/dist-packages (from matplotlib->torchdrug) (4.42.0)\n",
            "Requirement already satisfied: kiwisolver>=1.0.1 in /usr/local/lib/python3.10/dist-packages (from matplotlib->torchdrug) (1.4.4)\n",
            "Requirement already satisfied: packaging>=20.0 in /usr/local/lib/python3.10/dist-packages (from matplotlib->torchdrug) (23.1)\n",
            "Requirement already satisfied: pyparsing>=2.3.1 in /usr/local/lib/python3.10/dist-packages (from matplotlib->torchdrug) (3.1.1)\n",
            "Requirement already satisfied: python-dateutil>=2.7 in /usr/local/lib/python3.10/dist-packages (from matplotlib->torchdrug) (2.8.2)\n",
            "Requirement already satisfied: six>=1.5 in /usr/local/lib/python3.10/dist-packages (from python-dateutil>=2.7->matplotlib->torchdrug) (1.16.0)\n",
            "Requirement already satisfied: mpmath>=0.19 in /usr/local/lib/python3.10/dist-packages (from sympy->torch>=1.8.0->torchdrug) (1.3.0)\n",
            "Building wheels for collected packages: torch-cluster, torch-scatter\n",
            "  Building wheel for torch-cluster (setup.py) ... \u001b[?25l\u001b[?25hdone\n",
            "  Created wheel for torch-cluster: filename=torch_cluster-1.6.1-cp310-cp310-linux_x86_64.whl size=1974468 sha256=08941be1bd946d9972c410177bc3a0fb8907b236f6a1700db64a33fafd01a1a7\n",
            "  Stored in directory: /root/.cache/pip/wheels/2e/ed/ac/1df43a8ff5b9bd2f44042636b98a60b2b4027d3ce8e8a3185f\n",
            "  Building wheel for torch-scatter (setup.py) ... \u001b[?25l\u001b[?25hdone\n",
            "  Created wheel for torch-scatter: filename=torch_scatter-2.1.1-cp310-cp310-linux_x86_64.whl size=3536346 sha256=2e99b566da87a58c9bf532f06ae320c5a054f1465bd7c5964c02738e8b99fea0\n",
            "  Stored in directory: /root/.cache/pip/wheels/ef/67/58/6566a3b61c6ec0f2ca0c2c324cd035ef2955601f0fb3197d5f\n",
            "Successfully built torch-cluster torch-scatter\n",
            "Installing collected packages: ninja, lmdb, fair-esm, torch-scatter, rdkit-pypi, torch-cluster, torchdrug\n",
            "Successfully installed fair-esm-2.0.0 lmdb-1.4.1 ninja-1.11.1 rdkit-pypi-2022.9.5 torch-cluster-1.6.1 torch-scatter-2.1.1 torchdrug-0.2.1\n",
            "Requirement already satisfied: easydict in /usr/local/lib/python3.10/dist-packages (1.10)\n",
            "Requirement already satisfied: pyyaml in /usr/local/lib/python3.10/dist-packages (6.0.1)\n"
          ]
        }
      ],
      "source": [
        "!pip install torch\n",
        "!pip install torchdrug\n",
        "!pip install easydict pyyaml"
      ]
    },
    {
      "cell_type": "markdown",
      "id": "bc259cbf-3dce-4645-96f2-55ced668badb",
      "metadata": {
        "id": "bc259cbf-3dce-4645-96f2-55ced668badb"
      },
      "source": [
        "## Download model and data\n",
        "\n",
        "Pre-trained models weights for GearNet are stored [here](https://zenodo.org/record/7593637). Several weigths are available, optained using different training techniques.\n",
        "\n",
        "For the data, I chose some example protein [Free fatty acid receptor 2](https://alphafold.ebi.ac.uk/entry/O15552).\n",
        "\n",
        "Currently, GearNet works only with `.pdb` files. To load data, you use `data.Protein.from_pdb()` method. Unfortunately, there is no `data.Protein.from_mmcif()`. Under the hood, they are using [rdkit](https://www.rdkit.org/) to parse files, but adding support for parsing `mmcif` files is still [an open issue](https://github.com/rdkit/rdkit/issues/2054)."
      ]
    },
    {
      "cell_type": "code",
      "execution_count": null,
      "id": "2d6874c0-8551-4579-9789-b536298a85ea",
      "metadata": {
        "colab": {
          "base_uri": "https://localhost:8080/"
        },
        "id": "2d6874c0-8551-4579-9789-b536298a85ea",
        "outputId": "48770a41-dea7-40d6-980b-8e77ed86d5e5"
      },
      "outputs": [
        {
          "output_type": "stream",
          "name": "stdout",
          "text": [
            "--2023-08-24 09:52:00--  https://zenodo.org/record/7593637/files/mc_gearnet_edge.pth\n",
            "Resolving zenodo.org (zenodo.org)... 188.185.124.72\n",
            "Connecting to zenodo.org (zenodo.org)|188.185.124.72|:443... connected.\n",
            "HTTP request sent, awaiting response... 200 OK\n",
            "Length: 80700937 (77M) [application/octet-stream]\n",
            "Saving to: ‘mc_gearnet_edge.pth’\n",
            "\n",
            "mc_gearnet_edge.pth 100%[===================>]  76.96M   608KB/s    in 2m 24s  \n",
            "\n",
            "2023-08-24 09:54:25 (547 KB/s) - ‘mc_gearnet_edge.pth’ saved [80700937/80700937]\n",
            "\n"
          ]
        }
      ],
      "source": [
        "!wget https://zenodo.org/record/7593637/files/mc_gearnet_edge.pth\n",
        "!mkdir models\n",
        "!mv mc_gearnet_edge.pth models/mc_gearnet_edge.pth"
      ]
    },
    {
      "cell_type": "code",
      "execution_count": null,
      "id": "2f156cab-d338-436a-bcb3-1255092fd3e0",
      "metadata": {
        "colab": {
          "base_uri": "https://localhost:8080/"
        },
        "id": "2f156cab-d338-436a-bcb3-1255092fd3e0",
        "outputId": "60e61af0-7a57-41ff-d14e-facb7350b417"
      },
      "outputs": [
        {
          "output_type": "stream",
          "name": "stdout",
          "text": [
            "--2023-08-24 09:54:26--  https://alphafold.ebi.ac.uk/files/AF-O15552-F1-model_v4.pdb\n",
            "Resolving alphafold.ebi.ac.uk (alphafold.ebi.ac.uk)... 34.149.152.8\n",
            "Connecting to alphafold.ebi.ac.uk (alphafold.ebi.ac.uk)|34.149.152.8|:443... connected.\n",
            "HTTP request sent, awaiting response... 200 OK\n",
            "Length: unspecified [application/octet-stream]\n",
            "Saving to: ‘AF-O15552-F1-model_v4.pdb’\n",
            "\n",
            "AF-O15552-F1-model_     [ <=>                ] 213.49K  --.-KB/s    in 0.002s  \n",
            "\n",
            "2023-08-24 09:54:26 (111 MB/s) - ‘AF-O15552-F1-model_v4.pdb’ saved [218618]\n",
            "\n"
          ]
        }
      ],
      "source": [
        "!wget https://alphafold.ebi.ac.uk/files/AF-O15552-F1-model_v4.pdb\n",
        "!mkdir data\n",
        "!mv AF-O15552-F1-model_v4.pdb data/AF-O15552-F1-model_v4.pdb"
      ]
    },
    {
      "cell_type": "markdown",
      "id": "35827b8e-50b5-4566-9d11-6b3f82afe20a",
      "metadata": {
        "id": "35827b8e-50b5-4566-9d11-6b3f82afe20a"
      },
      "source": [
        "# Prepare data"
      ]
    },
    {
      "cell_type": "code",
      "execution_count": null,
      "id": "f2f7eb04-94c0-4aa6-97b0-e2fb8ec9344e",
      "metadata": {
        "id": "f2f7eb04-94c0-4aa6-97b0-e2fb8ec9344e"
      },
      "outputs": [],
      "source": [
        "from torchdrug import core, datasets, tasks, models, transforms, data, layers\n",
        "from torchdrug.layers import geometry"
      ]
    },
    {
      "cell_type": "code",
      "execution_count": null,
      "id": "59202490-00ea-4652-a19b-ee629e4cbf21",
      "metadata": {
        "id": "59202490-00ea-4652-a19b-ee629e4cbf21"
      },
      "outputs": [],
      "source": [
        "transform = transforms.ProteinView(view=\"residue\")\n",
        "graph_construction_model = layers.GraphConstruction(node_layers=[geometry.AlphaCarbonNode()],\n",
        "                                                    edge_layers=[geometry.SpatialEdge(radius=10.0, min_distance=5),\n",
        "                                                                 geometry.KNNEdge(k=10, min_distance=5),\n",
        "                                                                 geometry.SequentialEdge(max_distance=2)],\n",
        "                                                    edge_feature=\"gearnet\")"
      ]
    },
    {
      "cell_type": "code",
      "execution_count": null,
      "id": "4b9732d8-c270-497f-8f01-851bd1a0a8be",
      "metadata": {
        "id": "4b9732d8-c270-497f-8f01-851bd1a0a8be"
      },
      "outputs": [],
      "source": [
        "PROTEIN_PATH = './data/AF-O15552-F1-model_v4.pdb'\n",
        "protein = data.Protein.from_pdb(PROTEIN_PATH, atom_feature=\"position\", bond_feature=\"length\", residue_feature=\"symbol\")\n",
        "\n",
        "with protein.residue():\n",
        "    protein.residue_feature = protein.residue_feature.to_dense()\n",
        "\n",
        "item = {\"graph\": protein}\n",
        "item = transform(item)\n",
        "\n",
        "_protein = data.Protein.pack([item['graph']])\n",
        "protein = graph_construction_model(_protein)"
      ]
    },
    {
      "cell_type": "markdown",
      "id": "37f4f403-2df1-40e0-8136-2ac367176fb3",
      "metadata": {
        "id": "37f4f403-2df1-40e0-8136-2ac367176fb3"
      },
      "source": [
        "# Prepare model"
      ]
    },
    {
      "cell_type": "code",
      "execution_count": null,
      "id": "70bf43e9-53c0-48dd-8da6-a3f8ac118a6e",
      "metadata": {
        "colab": {
          "base_uri": "https://localhost:8080/"
        },
        "id": "70bf43e9-53c0-48dd-8da6-a3f8ac118a6e",
        "outputId": "3b0191bd-940c-4666-f855-e26819c31be7"
      },
      "outputs": [
        {
          "output_type": "execute_result",
          "data": {
            "text/plain": [
              "GeometryAwareRelationalGraphNeuralNetwork(\n",
              "  (layers): ModuleList(\n",
              "    (0): GeometricRelationalGraphConv(\n",
              "      (batch_norm): BatchNorm1d(512, eps=1e-05, momentum=0.1, affine=True, track_running_stats=True)\n",
              "      (self_loop): Linear(in_features=21, out_features=512, bias=True)\n",
              "      (linear): Linear(in_features=147, out_features=512, bias=True)\n",
              "    )\n",
              "    (1-5): 5 x GeometricRelationalGraphConv(\n",
              "      (batch_norm): BatchNorm1d(512, eps=1e-05, momentum=0.1, affine=True, track_running_stats=True)\n",
              "      (self_loop): Linear(in_features=512, out_features=512, bias=True)\n",
              "      (linear): Linear(in_features=3584, out_features=512, bias=True)\n",
              "    )\n",
              "  )\n",
              "  (spatial_line_graph): SpatialLineGraph()\n",
              "  (edge_layers): ModuleList(\n",
              "    (0): GeometricRelationalGraphConv(\n",
              "      (batch_norm): BatchNorm1d(21, eps=1e-05, momentum=0.1, affine=True, track_running_stats=True)\n",
              "      (self_loop): Linear(in_features=59, out_features=21, bias=True)\n",
              "      (linear): Linear(in_features=472, out_features=21, bias=True)\n",
              "    )\n",
              "    (1): GeometricRelationalGraphConv(\n",
              "      (batch_norm): BatchNorm1d(512, eps=1e-05, momentum=0.1, affine=True, track_running_stats=True)\n",
              "      (self_loop): Linear(in_features=21, out_features=512, bias=True)\n",
              "      (linear): Linear(in_features=168, out_features=512, bias=True)\n",
              "    )\n",
              "    (2-5): 4 x GeometricRelationalGraphConv(\n",
              "      (batch_norm): BatchNorm1d(512, eps=1e-05, momentum=0.1, affine=True, track_running_stats=True)\n",
              "      (self_loop): Linear(in_features=512, out_features=512, bias=True)\n",
              "      (linear): Linear(in_features=4096, out_features=512, bias=True)\n",
              "    )\n",
              "  )\n",
              "  (batch_norms): ModuleList(\n",
              "    (0-5): 6 x BatchNorm1d(512, eps=1e-05, momentum=0.1, affine=True, track_running_stats=True)\n",
              "  )\n",
              "  (readout): SumReadout()\n",
              ")"
            ]
          },
          "metadata": {},
          "execution_count": 7
        }
      ],
      "source": [
        "import torch\n",
        "\n",
        "WEIGHTS_PATH = './models/mc_gearnet_edge.pth'\n",
        "\n",
        "# define model architecturemodel\n",
        "gearnet_edge = models.GearNet(input_dim=21, hidden_dims=[512, 512, 512, 512, 512, 512],\n",
        "                              num_relation=7, edge_input_dim=59, num_angle_bin=8,\n",
        "                              batch_norm=True, concat_hidden=True, short_cut=True, readout=\"sum\")\n",
        "\n",
        "if torch.cuda.is_available():\n",
        "  net = torch.load(WEIGHTS_PATH)\n",
        "else:\n",
        "  net = torch.load(WEIGHTS_PATH, map_location=torch.device('cpu'))\n",
        "\n",
        "gearnet_edge.load_state_dict(net)\n",
        "gearnet_edge.eval()"
      ]
    },
    {
      "cell_type": "markdown",
      "id": "01cc3860-3a8b-43d8-a758-2dbb70d4802d",
      "metadata": {
        "id": "01cc3860-3a8b-43d8-a758-2dbb70d4802d"
      },
      "source": [
        "# Compute embeddings"
      ]
    },
    {
      "cell_type": "code",
      "source": [
        "device = torch.device('cuda' if torch.cuda.is_available() else 'cpu')\n",
        "gearnet_edge = gearnet_edge.to(device)\n",
        "protein = protein.to(device)"
      ],
      "metadata": {
        "id": "3anPsqqL0o04"
      },
      "id": "3anPsqqL0o04",
      "execution_count": null,
      "outputs": []
    },
    {
      "cell_type": "code",
      "execution_count": null,
      "id": "ab5adcee-3afe-4a5b-bc2c-00bdf3536b6c",
      "metadata": {
        "colab": {
          "base_uri": "https://localhost:8080/"
        },
        "id": "ab5adcee-3afe-4a5b-bc2c-00bdf3536b6c",
        "outputId": "aa3be84a-f443-450d-91ca-2e4d12369868"
      },
      "outputs": [
        {
          "output_type": "stream",
          "name": "stdout",
          "text": [
            "114 ms ± 5.55 ms per loop (mean ± std. dev. of 7 runs, 1 loop each)\n"
          ]
        }
      ],
      "source": [
        "%timeit gearnet_edge(protein, protein.node_feature.float(), all_loss=None, metric=None)"
      ]
    },
    {
      "cell_type": "code",
      "source": [
        "output = gearnet_edge(protein, protein.node_feature.float(), all_loss=None, metric=None)\n",
        "output['graph_feature']"
      ],
      "metadata": {
        "colab": {
          "base_uri": "https://localhost:8080/"
        },
        "id": "yZ2bJ-FUDnga",
        "outputId": "83455c5f-8898-428c-c6cf-e448bbb6fd64"
      },
      "id": "yZ2bJ-FUDnga",
      "execution_count": null,
      "outputs": [
        {
          "output_type": "execute_result",
          "data": {
            "text/plain": [
              "tensor([[ 7982.5234,   -62.6140,   -93.1467,  ..., 14019.3818,  3402.5784,\n",
              "         12156.4658]], grad_fn=<ScatterAddBackward0>)"
            ]
          },
          "metadata": {},
          "execution_count": 9
        }
      ]
    },
    {
      "cell_type": "code",
      "execution_count": null,
      "id": "2498a269-11ec-4bab-b077-49d8d38ee517",
      "metadata": {
        "colab": {
          "base_uri": "https://localhost:8080/",
          "height": 336
        },
        "id": "2498a269-11ec-4bab-b077-49d8d38ee517",
        "outputId": "9fb087bf-d355-45bd-dd46-b310c6dde74d"
      },
      "outputs": [
        {
          "output_type": "stream",
          "name": "stderr",
          "text": [
            "INFO:numexpr.utils:NumExpr defaulting to 2 threads.\n"
          ]
        },
        {
          "output_type": "stream",
          "name": "stdout",
          "text": [
            "09:55:22   NumExpr defaulting to 2 threads.\n"
          ]
        },
        {
          "output_type": "execute_result",
          "data": {
            "text/plain": [
              "                  0\n",
              "count   3072.000000\n",
              "mean    1221.709106\n",
              "std     4182.804688\n",
              "min    -3180.315674\n",
              "25%      -41.301127\n",
              "50%       80.202488\n",
              "75%      701.187408\n",
              "max    91498.945312"
            ],
            "text/html": [
              "\n",
              "  <div id=\"df-bccdcf1f-70e7-4b50-914d-cb9aaba600d8\" class=\"colab-df-container\">\n",
              "    <div>\n",
              "<style scoped>\n",
              "    .dataframe tbody tr th:only-of-type {\n",
              "        vertical-align: middle;\n",
              "    }\n",
              "\n",
              "    .dataframe tbody tr th {\n",
              "        vertical-align: top;\n",
              "    }\n",
              "\n",
              "    .dataframe thead th {\n",
              "        text-align: right;\n",
              "    }\n",
              "</style>\n",
              "<table border=\"1\" class=\"dataframe\">\n",
              "  <thead>\n",
              "    <tr style=\"text-align: right;\">\n",
              "      <th></th>\n",
              "      <th>0</th>\n",
              "    </tr>\n",
              "  </thead>\n",
              "  <tbody>\n",
              "    <tr>\n",
              "      <th>count</th>\n",
              "      <td>3072.000000</td>\n",
              "    </tr>\n",
              "    <tr>\n",
              "      <th>mean</th>\n",
              "      <td>1221.709106</td>\n",
              "    </tr>\n",
              "    <tr>\n",
              "      <th>std</th>\n",
              "      <td>4182.804688</td>\n",
              "    </tr>\n",
              "    <tr>\n",
              "      <th>min</th>\n",
              "      <td>-3180.315674</td>\n",
              "    </tr>\n",
              "    <tr>\n",
              "      <th>25%</th>\n",
              "      <td>-41.301127</td>\n",
              "    </tr>\n",
              "    <tr>\n",
              "      <th>50%</th>\n",
              "      <td>80.202488</td>\n",
              "    </tr>\n",
              "    <tr>\n",
              "      <th>75%</th>\n",
              "      <td>701.187408</td>\n",
              "    </tr>\n",
              "    <tr>\n",
              "      <th>max</th>\n",
              "      <td>91498.945312</td>\n",
              "    </tr>\n",
              "  </tbody>\n",
              "</table>\n",
              "</div>\n",
              "    <div class=\"colab-df-buttons\">\n",
              "\n",
              "  <div class=\"colab-df-container\">\n",
              "    <button class=\"colab-df-convert\" onclick=\"convertToInteractive('df-bccdcf1f-70e7-4b50-914d-cb9aaba600d8')\"\n",
              "            title=\"Convert this dataframe to an interactive table.\"\n",
              "            style=\"display:none;\">\n",
              "\n",
              "  <svg xmlns=\"http://www.w3.org/2000/svg\" height=\"24px\" viewBox=\"0 -960 960 960\">\n",
              "    <path d=\"M120-120v-720h720v720H120Zm60-500h600v-160H180v160Zm220 220h160v-160H400v160Zm0 220h160v-160H400v160ZM180-400h160v-160H180v160Zm440 0h160v-160H620v160ZM180-180h160v-160H180v160Zm440 0h160v-160H620v160Z\"/>\n",
              "  </svg>\n",
              "    </button>\n",
              "\n",
              "  <style>\n",
              "    .colab-df-container {\n",
              "      display:flex;\n",
              "      gap: 12px;\n",
              "    }\n",
              "\n",
              "    .colab-df-convert {\n",
              "      background-color: #E8F0FE;\n",
              "      border: none;\n",
              "      border-radius: 50%;\n",
              "      cursor: pointer;\n",
              "      display: none;\n",
              "      fill: #1967D2;\n",
              "      height: 32px;\n",
              "      padding: 0 0 0 0;\n",
              "      width: 32px;\n",
              "    }\n",
              "\n",
              "    .colab-df-convert:hover {\n",
              "      background-color: #E2EBFA;\n",
              "      box-shadow: 0px 1px 2px rgba(60, 64, 67, 0.3), 0px 1px 3px 1px rgba(60, 64, 67, 0.15);\n",
              "      fill: #174EA6;\n",
              "    }\n",
              "\n",
              "    .colab-df-buttons div {\n",
              "      margin-bottom: 4px;\n",
              "    }\n",
              "\n",
              "    [theme=dark] .colab-df-convert {\n",
              "      background-color: #3B4455;\n",
              "      fill: #D2E3FC;\n",
              "    }\n",
              "\n",
              "    [theme=dark] .colab-df-convert:hover {\n",
              "      background-color: #434B5C;\n",
              "      box-shadow: 0px 1px 3px 1px rgba(0, 0, 0, 0.15);\n",
              "      filter: drop-shadow(0px 1px 2px rgba(0, 0, 0, 0.3));\n",
              "      fill: #FFFFFF;\n",
              "    }\n",
              "  </style>\n",
              "\n",
              "    <script>\n",
              "      const buttonEl =\n",
              "        document.querySelector('#df-bccdcf1f-70e7-4b50-914d-cb9aaba600d8 button.colab-df-convert');\n",
              "      buttonEl.style.display =\n",
              "        google.colab.kernel.accessAllowed ? 'block' : 'none';\n",
              "\n",
              "      async function convertToInteractive(key) {\n",
              "        const element = document.querySelector('#df-bccdcf1f-70e7-4b50-914d-cb9aaba600d8');\n",
              "        const dataTable =\n",
              "          await google.colab.kernel.invokeFunction('convertToInteractive',\n",
              "                                                    [key], {});\n",
              "        if (!dataTable) return;\n",
              "\n",
              "        const docLinkHtml = 'Like what you see? Visit the ' +\n",
              "          '<a target=\"_blank\" href=https://colab.research.google.com/notebooks/data_table.ipynb>data table notebook</a>'\n",
              "          + ' to learn more about interactive tables.';\n",
              "        element.innerHTML = '';\n",
              "        dataTable['output_type'] = 'display_data';\n",
              "        await google.colab.output.renderOutput(dataTable, element);\n",
              "        const docLink = document.createElement('div');\n",
              "        docLink.innerHTML = docLinkHtml;\n",
              "        element.appendChild(docLink);\n",
              "      }\n",
              "    </script>\n",
              "  </div>\n",
              "\n",
              "\n",
              "<div id=\"df-e7cafbc2-8c65-47c3-892f-38016bddabbf\">\n",
              "  <button class=\"colab-df-quickchart\" onclick=\"quickchart('df-e7cafbc2-8c65-47c3-892f-38016bddabbf')\"\n",
              "            title=\"Suggest charts.\"\n",
              "            style=\"display:none;\">\n",
              "\n",
              "<svg xmlns=\"http://www.w3.org/2000/svg\" height=\"24px\"viewBox=\"0 0 24 24\"\n",
              "     width=\"24px\">\n",
              "    <g>\n",
              "        <path d=\"M19 3H5c-1.1 0-2 .9-2 2v14c0 1.1.9 2 2 2h14c1.1 0 2-.9 2-2V5c0-1.1-.9-2-2-2zM9 17H7v-7h2v7zm4 0h-2V7h2v10zm4 0h-2v-4h2v4z\"/>\n",
              "    </g>\n",
              "</svg>\n",
              "  </button>\n",
              "\n",
              "<style>\n",
              "  .colab-df-quickchart {\n",
              "    background-color: #E8F0FE;\n",
              "    border: none;\n",
              "    border-radius: 50%;\n",
              "    cursor: pointer;\n",
              "    display: none;\n",
              "    fill: #1967D2;\n",
              "    height: 32px;\n",
              "    padding: 0 0 0 0;\n",
              "    width: 32px;\n",
              "  }\n",
              "\n",
              "  .colab-df-quickchart:hover {\n",
              "    background-color: #E2EBFA;\n",
              "    box-shadow: 0px 1px 2px rgba(60, 64, 67, 0.3), 0px 1px 3px 1px rgba(60, 64, 67, 0.15);\n",
              "    fill: #174EA6;\n",
              "  }\n",
              "\n",
              "  [theme=dark] .colab-df-quickchart {\n",
              "    background-color: #3B4455;\n",
              "    fill: #D2E3FC;\n",
              "  }\n",
              "\n",
              "  [theme=dark] .colab-df-quickchart:hover {\n",
              "    background-color: #434B5C;\n",
              "    box-shadow: 0px 1px 3px 1px rgba(0, 0, 0, 0.15);\n",
              "    filter: drop-shadow(0px 1px 2px rgba(0, 0, 0, 0.3));\n",
              "    fill: #FFFFFF;\n",
              "  }\n",
              "</style>\n",
              "\n",
              "  <script>\n",
              "    async function quickchart(key) {\n",
              "      const charts = await google.colab.kernel.invokeFunction(\n",
              "          'suggestCharts', [key], {});\n",
              "    }\n",
              "    (() => {\n",
              "      let quickchartButtonEl =\n",
              "        document.querySelector('#df-e7cafbc2-8c65-47c3-892f-38016bddabbf button');\n",
              "      quickchartButtonEl.style.display =\n",
              "        google.colab.kernel.accessAllowed ? 'block' : 'none';\n",
              "    })();\n",
              "  </script>\n",
              "</div>\n",
              "    </div>\n",
              "  </div>\n"
            ]
          },
          "metadata": {},
          "execution_count": 10
        }
      ],
      "source": [
        "import pandas as pd\n",
        "\n",
        "pd.DataFrame(output['graph_feature'][0].detach().numpy()).describe()"
      ]
    }
  ],
  "metadata": {
    "kernelspec": {
      "display_name": "Python 3",
      "name": "python3"
    },
    "language_info": {
      "codemirror_mode": {
        "name": "ipython",
        "version": 3
      },
      "file_extension": ".py",
      "mimetype": "text/x-python",
      "name": "python",
      "nbconvert_exporter": "python",
      "pygments_lexer": "ipython3",
      "version": "3.10.12"
    },
    "colab": {
      "provenance": [],
      "gpuType": "T4",
      "include_colab_link": true
    },
    "accelerator": "GPU"
  },
  "nbformat": 4,
  "nbformat_minor": 5
}